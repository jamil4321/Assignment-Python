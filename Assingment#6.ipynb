{
 "cells": [
  {
   "cell_type": "code",
   "execution_count": 1,
   "metadata": {},
   "outputs": [
    {
     "name": "stdout",
     "output_type": "stream",
     "text": [
      "The concept of OOP is focuses on creating reusable code. \n",
      "This concept is also known as DRY (Don't Repeat Yourself). \n",
      "there are four Pillars of OOP which are : \n",
      "Inheritance. Encapsulation , Polymorphism and Abstraction\n"
     ]
    }
   ],
   "source": [
    "print('''The concept of OOP is focuses on creating reusable code. \n",
    "This concept is also known as DRY (Don't Repeat Yourself). \n",
    "there are four Pillars of OOP which are : \n",
    "Inheritance. Encapsulation , Polymorphism and Abstraction''')"
   ]
  },
  {
   "cell_type": "code",
   "execution_count": 3,
   "metadata": {},
   "outputs": [
    {
     "name": "stdout",
     "output_type": "stream",
     "text": [
      "\n",
      "    OOP based code ko maintain karna asan hota hai \n",
      "    OOP based code re-useable hota hai \n",
      "    OOP ka code module base hota hai like tree structure \n"
     ]
    }
   ],
   "source": [
    "print('''\n",
    "    OOP based code ko maintain karna asan hota hai \n",
    "    OOP based code re-useable hota hai \n",
    "    OOP ka code module base hota hai like tree structure ''')"
   ]
  },
  {
   "cell_type": "code",
   "execution_count": 5,
   "metadata": {},
   "outputs": [
    {
     "name": "stdout",
     "output_type": "stream",
     "text": [
      "Funtion\n",
      "if we have to use a task again and again we write that task in a function and call it when we need it.\n",
      "    we can pass arguments when calling a funtion if it takes parameters .\n",
      "    in function you have to pass class attributes as parameters else you can use them in function. \n",
      "Method\n",
      "\n",
      "Methods are same as functions there are very few differece in methods and functions which are:\n",
      "    1) methods are written in the scope of class\n",
      "    2) methods take \"self\" as first parameter , then you know that its a method\n",
      "    3) self in method takes all the attributes which are defined in class and u can use the attributes \n",
      "    in method using self keyword .\n",
      "    \n"
     ]
    }
   ],
   "source": [
    "print('Funtion')\n",
    "print('''if we have to use a task again and again we write that task in a function and call it when we need it.\n",
    "    we can pass arguments when calling a funtion if it takes parameters .\n",
    "    in function you have to pass class attributes as parameters else you can use them in function. ''')\n",
    "print('Method')\n",
    "print('''\n",
    "Methods are same as functions there are very few differece in methods and functions which are:\n",
    "    1) methods are written in the scope of class\n",
    "    2) methods take \"self\" as first parameter , then you know that its a method\n",
    "    3) self in method takes all the attributes which are defined in class and u can use the attributes \n",
    "    in method using self keyword .\n",
    "    ''')"
   ]
  },
  {
   "cell_type": "code",
   "execution_count": 6,
   "metadata": {},
   "outputs": [
    {
     "name": "stdout",
     "output_type": "stream",
     "text": [
      "\n",
      "1. Class\n",
      "2. Object\n",
      "3. Attribute\n",
      "4. Behavior\n",
      "\n",
      "\n",
      "    \n",
      "    \n",
      "    OOPS me class ek blueprint ka kaam karti it's like defining data structure using \n",
      "    attributes which are basically variables. we define methods and functions in class\n",
      "    kuch behaviours k liye Example:\n",
      "                    #class its like a box which have many things inside it, which are  attributes methods functons etc ...\n",
      "                     class Soccerplayer:\n",
      "                     #object , class is a blueprint of this object , in this object we have all those things which i defined in class lines \n",
      "                         def __init__(self,playername,number,position)\n",
      "                         \n",
      "                         #attribute are variables , means address to memory loction of the value which these variables have\n",
      "                        self.name = playername\n",
      "                        self.number = number\n",
      "                        self.position = position\n",
      "                        \n",
      "                        \n",
      "                        #method For defining players who are better in dribbling then most players \n",
      "                        #methods can only be defined in the class scope ,its perform a task when we call it.\n",
      "                        # this method will print the player name which will be passed as argument when calling this method ,\n",
      "                        #printing is this methods behavior\n",
      "                        def specialists(self):\n",
      "                        print(self.name, \" is better in dribbble then other soccerPlayers\")\n",
      "                        \n",
      "                        #function is different then methods you can define funtion in and out of the class\n",
      "                        def run(name):\n",
      "                        print(name,\"runs fast\")\n",
      "                        \n",
      "                        \n",
      "                         \n"
     ]
    }
   ],
   "source": [
    "print('''\n",
    "1. Class\n",
    "2. Object\n",
    "3. Attribute\n",
    "4. Behavior\n",
    "\n",
    "\n",
    "    \n",
    "    \n",
    "    OOPS me class ek blueprint ka kaam karti it's like defining data structure using \n",
    "    attributes which are basically variables. we define methods and functions in class\n",
    "    kuch behaviours k liye Example:\n",
    "                    #class its like a box which have many things inside it, which are  attributes methods functons etc ...\n",
    "                     class Soccerplayer:\n",
    "                     #object , class is a blueprint of this object , in this object we have all those things which i defined in class lines \n",
    "                         def __init__(self,playername,number,position)\n",
    "                         \n",
    "                         #attribute are variables , means address to memory loction of the value which these variables have\n",
    "                        self.name = playername\n",
    "                        self.number = number\n",
    "                        self.position = position\n",
    "                        \n",
    "                        \n",
    "                        #method For defining players who are better in dribbling then most players \n",
    "                        #methods can only be defined in the class scope ,its perform a task when we call it.\n",
    "                        # this method will print the player name which will be passed as argument when calling this method ,\n",
    "                        #printing is this methods behavior\n",
    "                        def specialists(self):\n",
    "                        print(self.name, \" is better in dribbble then other soccerPlayers\")\n",
    "                        \n",
    "                        #function is different then methods you can define funtion in and out of the class\n",
    "                        def run(name):\n",
    "                        print(name,\"runs fast\")\n",
    "                        \n",
    "                        \n",
    "                         ''')"
   ]
  },
  {
   "cell_type": "code",
   "execution_count": 9,
   "metadata": {},
   "outputs": [
    {
     "name": "stdout",
     "output_type": "stream",
     "text": [
      "this car name is :  Corolla\n",
      "Suzuki\n",
      "Xayz-212\n"
     ]
    }
   ],
   "source": [
    "class Car:\n",
    "    def __init__(self,model,color,name,company,number):\n",
    "        self.model=model\n",
    "        self.color=color\n",
    "        self.name=name\n",
    "        self.company=company\n",
    "        self.number=number\n",
    "        \n",
    "    def print_name(self):\n",
    "        print(\"this car name is : \",self.name)\n",
    "            \n",
    "    def print_UPdatecompany(self):\n",
    "        self.company=\"Suzuki\"\n",
    "        print(self.company)\n",
    "            \n",
    "    def print_number(self):\n",
    "        print(self.number)\n",
    "            \n",
    "car1=Car('2019','Black','Corolla','Toyota','Abx-2132')\n",
    "car2=Car('2018','white','VIGO','Toyota','Xayz-212')\n",
    "car3=Car('2017','Red','land Cruiser','Toyota','cda-132')\n",
    "car4=Car('2016','Blue','Civic','Honda','zzw-32')\n",
    "car5=Car('2015','mate Black','City','Honda','Ax-22')\n",
    "\n",
    "\n",
    "\n",
    "car1.print_name()\n",
    "car2.print_UPdatecompany()\n",
    "car2.print_number()"
   ]
  },
  {
   "cell_type": "code",
   "execution_count": null,
   "metadata": {},
   "outputs": [],
   "source": []
  }
 ],
 "metadata": {
  "kernelspec": {
   "display_name": "Python 3",
   "language": "python",
   "name": "python3"
  },
  "language_info": {
   "codemirror_mode": {
    "name": "ipython",
    "version": 3
   },
   "file_extension": ".py",
   "mimetype": "text/x-python",
   "name": "python",
   "nbconvert_exporter": "python",
   "pygments_lexer": "ipython3",
   "version": "3.7.4"
  }
 },
 "nbformat": 4,
 "nbformat_minor": 2
}
